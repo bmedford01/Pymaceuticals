{
 "cells": [
  {
   "cell_type": "markdown",
   "metadata": {},
   "source": [
    "## Observations and Insights "
   ]
  },
  {
   "cell_type": "markdown",
   "metadata": {},
   "source": []
  },
  {
   "cell_type": "code",
   "execution_count": 1,
   "metadata": {},
   "outputs": [
    {
     "name": "stdout",
     "output_type": "stream",
     "text": [
      "     Mouse ID Drug Regimen   Sex  Age_months  Weight (g)  Timepoint  \\\n",
      "0        k403     Ramicane  Male          21          16          0   \n",
      "1        k403     Ramicane  Male          21          16          5   \n",
      "2        k403     Ramicane  Male          21          16         10   \n",
      "3        k403     Ramicane  Male          21          16         15   \n",
      "4        k403     Ramicane  Male          21          16         20   \n",
      "...       ...          ...   ...         ...         ...        ...   \n",
      "1888     z969     Naftisol  Male           9          30         25   \n",
      "1889     z969     Naftisol  Male           9          30         30   \n",
      "1890     z969     Naftisol  Male           9          30         35   \n",
      "1891     z969     Naftisol  Male           9          30         40   \n",
      "1892     z969     Naftisol  Male           9          30         45   \n",
      "\n",
      "      Tumor Volume (mm3)  Metastatic Sites  \n",
      "0              45.000000                 0  \n",
      "1              38.825898                 0  \n",
      "2              35.014271                 1  \n",
      "3              34.223992                 1  \n",
      "4              32.997729                 1  \n",
      "...                  ...               ...  \n",
      "1888           63.145652                 2  \n",
      "1889           65.841013                 3  \n",
      "1890           69.176246                 4  \n",
      "1891           70.314904                 4  \n",
      "1892           73.867845                 4  \n",
      "\n",
      "[1893 rows x 8 columns]\n"
     ]
    }
   ],
   "source": [
    "# Dependencies and Setup\n",
    "import matplotlib.pyplot as plt\n",
    "import pandas as pd\n",
    "import scipy.stats as st\n",
    "import numpy as np\n",
    "\n",
    "# Study data files\n",
    "mouse_metadata_path = \"data/Mouse_metadata.csv\"\n",
    "study_results_path = \"data/Study_results.csv\"\n",
    "\n",
    "# Read the mouse data and the study results\n",
    "mouse_metadata = pd.read_csv(mouse_metadata_path)\n",
    "study_results = pd.read_csv(study_results_path)\n",
    "#print(mouse_metadata)\n",
    "#print(study_results)\n",
    "\n",
    "# Combine the data into a single dataset\n",
    "combined_df = pd.merge(mouse_metadata, study_results, on=\"Mouse ID\")\n",
    "\n",
    "# Display the data table for preview\n",
    "print(combined_df)"
   ]
  },
  {
   "cell_type": "code",
   "execution_count": 2,
   "metadata": {},
   "outputs": [
    {
     "data": {
      "text/plain": [
       "249"
      ]
     },
     "execution_count": 2,
     "metadata": {},
     "output_type": "execute_result"
    }
   ],
   "source": [
    "# Checking the number of mice.\n",
    "combined_df[\"Mouse ID\"].nunique()"
   ]
  },
  {
   "cell_type": "code",
   "execution_count": 3,
   "metadata": {},
   "outputs": [
    {
     "data": {
      "text/plain": [
       "0       False\n",
       "1       False\n",
       "2       False\n",
       "3       False\n",
       "4       False\n",
       "        ...  \n",
       "1888    False\n",
       "1889    False\n",
       "1890    False\n",
       "1891    False\n",
       "1892    False\n",
       "Length: 1893, dtype: bool"
      ]
     },
     "execution_count": 3,
     "metadata": {},
     "output_type": "execute_result"
    }
   ],
   "source": [
    "# Getting the duplicate mice by ID number that shows up for Mouse ID and Timepoint. \n",
    "#find_duplicates = combined_df.groupby(['Mouse ID', 'Timepoint'])\n",
    "find_duplicates = combined_df.duplicated(subset=['Mouse ID','Timepoint'], keep='first')\n",
    "find_duplicates"
   ]
  },
  {
   "cell_type": "code",
   "execution_count": 4,
   "metadata": {},
   "outputs": [
    {
     "data": {
      "text/html": [
       "<div>\n",
       "<style scoped>\n",
       "    .dataframe tbody tr th:only-of-type {\n",
       "        vertical-align: middle;\n",
       "    }\n",
       "\n",
       "    .dataframe tbody tr th {\n",
       "        vertical-align: top;\n",
       "    }\n",
       "\n",
       "    .dataframe thead th {\n",
       "        text-align: right;\n",
       "    }\n",
       "</style>\n",
       "<table border=\"1\" class=\"dataframe\">\n",
       "  <thead>\n",
       "    <tr style=\"text-align: right;\">\n",
       "      <th></th>\n",
       "      <th>Mouse ID</th>\n",
       "      <th>Drug Regimen</th>\n",
       "      <th>Sex</th>\n",
       "      <th>Age_months</th>\n",
       "      <th>Weight (g)</th>\n",
       "      <th>Timepoint</th>\n",
       "      <th>Tumor Volume (mm3)</th>\n",
       "      <th>Metastatic Sites</th>\n",
       "    </tr>\n",
       "  </thead>\n",
       "  <tbody>\n",
       "    <tr>\n",
       "      <th>0</th>\n",
       "      <td>k403</td>\n",
       "      <td>Ramicane</td>\n",
       "      <td>Male</td>\n",
       "      <td>21</td>\n",
       "      <td>16</td>\n",
       "      <td>0</td>\n",
       "      <td>45.000000</td>\n",
       "      <td>0</td>\n",
       "    </tr>\n",
       "    <tr>\n",
       "      <th>1</th>\n",
       "      <td>k403</td>\n",
       "      <td>Ramicane</td>\n",
       "      <td>Male</td>\n",
       "      <td>21</td>\n",
       "      <td>16</td>\n",
       "      <td>5</td>\n",
       "      <td>38.825898</td>\n",
       "      <td>0</td>\n",
       "    </tr>\n",
       "    <tr>\n",
       "      <th>2</th>\n",
       "      <td>k403</td>\n",
       "      <td>Ramicane</td>\n",
       "      <td>Male</td>\n",
       "      <td>21</td>\n",
       "      <td>16</td>\n",
       "      <td>10</td>\n",
       "      <td>35.014271</td>\n",
       "      <td>1</td>\n",
       "    </tr>\n",
       "    <tr>\n",
       "      <th>3</th>\n",
       "      <td>k403</td>\n",
       "      <td>Ramicane</td>\n",
       "      <td>Male</td>\n",
       "      <td>21</td>\n",
       "      <td>16</td>\n",
       "      <td>15</td>\n",
       "      <td>34.223992</td>\n",
       "      <td>1</td>\n",
       "    </tr>\n",
       "    <tr>\n",
       "      <th>4</th>\n",
       "      <td>k403</td>\n",
       "      <td>Ramicane</td>\n",
       "      <td>Male</td>\n",
       "      <td>21</td>\n",
       "      <td>16</td>\n",
       "      <td>20</td>\n",
       "      <td>32.997729</td>\n",
       "      <td>1</td>\n",
       "    </tr>\n",
       "    <tr>\n",
       "      <th>...</th>\n",
       "      <td>...</td>\n",
       "      <td>...</td>\n",
       "      <td>...</td>\n",
       "      <td>...</td>\n",
       "      <td>...</td>\n",
       "      <td>...</td>\n",
       "      <td>...</td>\n",
       "      <td>...</td>\n",
       "    </tr>\n",
       "    <tr>\n",
       "      <th>1888</th>\n",
       "      <td>z969</td>\n",
       "      <td>Naftisol</td>\n",
       "      <td>Male</td>\n",
       "      <td>9</td>\n",
       "      <td>30</td>\n",
       "      <td>25</td>\n",
       "      <td>63.145652</td>\n",
       "      <td>2</td>\n",
       "    </tr>\n",
       "    <tr>\n",
       "      <th>1889</th>\n",
       "      <td>z969</td>\n",
       "      <td>Naftisol</td>\n",
       "      <td>Male</td>\n",
       "      <td>9</td>\n",
       "      <td>30</td>\n",
       "      <td>30</td>\n",
       "      <td>65.841013</td>\n",
       "      <td>3</td>\n",
       "    </tr>\n",
       "    <tr>\n",
       "      <th>1890</th>\n",
       "      <td>z969</td>\n",
       "      <td>Naftisol</td>\n",
       "      <td>Male</td>\n",
       "      <td>9</td>\n",
       "      <td>30</td>\n",
       "      <td>35</td>\n",
       "      <td>69.176246</td>\n",
       "      <td>4</td>\n",
       "    </tr>\n",
       "    <tr>\n",
       "      <th>1891</th>\n",
       "      <td>z969</td>\n",
       "      <td>Naftisol</td>\n",
       "      <td>Male</td>\n",
       "      <td>9</td>\n",
       "      <td>30</td>\n",
       "      <td>40</td>\n",
       "      <td>70.314904</td>\n",
       "      <td>4</td>\n",
       "    </tr>\n",
       "    <tr>\n",
       "      <th>1892</th>\n",
       "      <td>z969</td>\n",
       "      <td>Naftisol</td>\n",
       "      <td>Male</td>\n",
       "      <td>9</td>\n",
       "      <td>30</td>\n",
       "      <td>45</td>\n",
       "      <td>73.867845</td>\n",
       "      <td>4</td>\n",
       "    </tr>\n",
       "  </tbody>\n",
       "</table>\n",
       "<p>1888 rows × 8 columns</p>\n",
       "</div>"
      ],
      "text/plain": [
       "     Mouse ID Drug Regimen   Sex  Age_months  Weight (g)  Timepoint  \\\n",
       "0        k403     Ramicane  Male          21          16          0   \n",
       "1        k403     Ramicane  Male          21          16          5   \n",
       "2        k403     Ramicane  Male          21          16         10   \n",
       "3        k403     Ramicane  Male          21          16         15   \n",
       "4        k403     Ramicane  Male          21          16         20   \n",
       "...       ...          ...   ...         ...         ...        ...   \n",
       "1888     z969     Naftisol  Male           9          30         25   \n",
       "1889     z969     Naftisol  Male           9          30         30   \n",
       "1890     z969     Naftisol  Male           9          30         35   \n",
       "1891     z969     Naftisol  Male           9          30         40   \n",
       "1892     z969     Naftisol  Male           9          30         45   \n",
       "\n",
       "      Tumor Volume (mm3)  Metastatic Sites  \n",
       "0              45.000000                 0  \n",
       "1              38.825898                 0  \n",
       "2              35.014271                 1  \n",
       "3              34.223992                 1  \n",
       "4              32.997729                 1  \n",
       "...                  ...               ...  \n",
       "1888           63.145652                 2  \n",
       "1889           65.841013                 3  \n",
       "1890           69.176246                 4  \n",
       "1891           70.314904                 4  \n",
       "1892           73.867845                 4  \n",
       "\n",
       "[1888 rows x 8 columns]"
      ]
     },
     "execution_count": 4,
     "metadata": {},
     "output_type": "execute_result"
    }
   ],
   "source": [
    "# Create a clean DataFrame by dropping the duplicate mouse by its ID.\n",
    "clean_df = combined_df.drop_duplicates(subset=['Mouse ID','Timepoint'], keep='first')\n",
    "clean_df"
   ]
  },
  {
   "cell_type": "code",
   "execution_count": 5,
   "metadata": {},
   "outputs": [
    {
     "data": {
      "text/plain": [
       "249"
      ]
     },
     "execution_count": 5,
     "metadata": {},
     "output_type": "execute_result"
    }
   ],
   "source": [
    "# Checking the number of mice in the clean DataFrame.\n",
    "clean_df[\"Mouse ID\"].nunique()"
   ]
  },
  {
   "cell_type": "markdown",
   "metadata": {},
   "source": [
    "## Summary Statistics"
   ]
  },
  {
   "cell_type": "code",
   "execution_count": 6,
   "metadata": {},
   "outputs": [
    {
     "data": {
      "text/plain": [
       "Capomulin    230\n",
       "Ramicane     228\n",
       "Ketapril     188\n",
       "Naftisol     186\n",
       "Zoniferol    182\n",
       "Stelasyn     181\n",
       "Placebo      181\n",
       "Infubinol    178\n",
       "Ceftamin     178\n",
       "Propriva     156\n",
       "Name: Drug Regimen, dtype: int64"
      ]
     },
     "execution_count": 6,
     "metadata": {},
     "output_type": "execute_result"
    }
   ],
   "source": [
    "# Generate a summary statistics table of mean, median, variance, standard deviation, and SEM of the tumor volume for each regimen\n",
    "clean_df[\"Drug Regimen\"].value_counts()\n",
    "\n",
    "\n",
    "# Use groupby and summary statistical methods to calculate the following properties of each drug regimen: \n",
    "# mean, median, variance, standard deviation, and SEM of the tumor volume. \n",
    "# Assemble the resulting series into a single summary dataframe."
   ]
  },
  {
   "cell_type": "code",
   "execution_count": 7,
   "metadata": {},
   "outputs": [
    {
     "name": "stdout",
     "output_type": "stream",
     "text": [
      "   Drug Name       Mean     Median   Variance  Standard Deviation       SEM\n",
      "0  capomulin  40.675741  41.557809  24.839296            4.983904  0.329346\n"
     ]
    }
   ],
   "source": [
    "# capomulin stats\n",
    "capomulin_df = clean_df[clean_df['Drug Regimen'] == \"Capomulin\"] \n",
    "capomulin = capomulin_df[\"Tumor Volume (mm3)\"]\n",
    "capomulin_mean = np.mean(capomulin)\n",
    "capomulin_median = np.median(capomulin)\n",
    "capomulin_var = np.var(capomulin)\n",
    "capomulin_sdev = np.std(capomulin)\n",
    "capomulin_sem = st.sem(capomulin)\n",
    "\n",
    "capomulin_summary = [{\"Drug Name\": \"capomulin\", \"Mean\": capomulin_mean, \"Median\": capomulin_median, \n",
    "                   \"Variance\": capomulin_var, \"Standard Deviation\": capomulin_sdev,\n",
    "                   \"SEM\": capomulin_sem}]\n",
    "capomulin_summary_df = pd.DataFrame(capomulin_summary)\n",
    "print(capomulin_summary_df)"
   ]
  },
  {
   "cell_type": "code",
   "execution_count": 22,
   "metadata": {},
   "outputs": [
    {
     "name": "stdout",
     "output_type": "stream",
     "text": [
      "  Drug Name       Mean     Median   Variance  Standard Deviation       SEM\n",
      "0  ramicane  40.216745  40.673236  23.383692            4.835669  0.320955\n"
     ]
    }
   ],
   "source": [
    "# ramicane stats\n",
    "ramicane_df = clean_df[clean_df['Drug Regimen'] == \"Ramicane\"] \n",
    "ramicane = ramicane_df[\"Tumor Volume (mm3)\"]\n",
    "ramicane_mean = np.mean(ramicane)\n",
    "ramicane_median = np.median(ramicane)\n",
    "ramicane_var = np.var(ramicane)\n",
    "ramicane_sdev = np.std(ramicane)\n",
    "ramicane_sem = st.sem(ramicane)\n",
    "\n",
    "ramicane_summary = [{\"Drug Name\": \"ramicane\", \"Mean\": ramicane_mean, \"Median\": ramicane_median, \n",
    "                   \"Variance\": ramicane_var, \"Standard Deviation\": ramicane_sdev,\n",
    "                   \"SEM\": ramicane_sem}]\n",
    "ramicane_summary_df = pd.DataFrame(ramicane_summary)\n",
    "print(ramicane_summary_df)"
   ]
  },
  {
   "cell_type": "code",
   "execution_count": 9,
   "metadata": {},
   "outputs": [
    {
     "name": "stdout",
     "output_type": "stream",
     "text": [
      "  Drug Name       Mean     Median  Variance  Standard Deviation      SEM\n",
      "0  ketapril  55.235638  53.698743  68.18893            8.257659  0.60386\n"
     ]
    }
   ],
   "source": [
    "# ketapril stats\n",
    "ketapril_df = clean_df[clean_df['Drug Regimen'] == \"Ketapril\"] \n",
    "ketapril = ketapril_df[\"Tumor Volume (mm3)\"]\n",
    "ketapril_mean = np.mean(ketapril)\n",
    "ketapril_median = np.median(ketapril)\n",
    "ketapril_var = np.var(ketapril)\n",
    "ketapril_sdev = np.std(ketapril)\n",
    "ketapril_sem = st.sem(ketapril)\n",
    "\n",
    "ketapril_summary = [{\"Drug Name\": \"ketapril\", \"Mean\": ketapril_mean, \"Median\": ketapril_median, \n",
    "                   \"Variance\": ketapril_var, \"Standard Deviation\": ketapril_sdev,\n",
    "                   \"SEM\": ketapril_sem}]\n",
    "ketapril_summary_df = pd.DataFrame(ketapril_summary)\n",
    "print(ketapril_summary_df)"
   ]
  },
  {
   "cell_type": "code",
   "execution_count": 10,
   "metadata": {},
   "outputs": [
    {
     "name": "stdout",
     "output_type": "stream",
     "text": [
      "  Drug Name       Mean     Median   Variance  Standard Deviation       SEM\n",
      "0  naftisol  54.331565  52.509285  65.817708            8.112811  0.596466\n"
     ]
    }
   ],
   "source": [
    "# naftisol stats\n",
    "naftisol_df = clean_df[clean_df['Drug Regimen'] == \"Naftisol\"] \n",
    "naftisol = naftisol_df[\"Tumor Volume (mm3)\"]\n",
    "naftisol_mean = np.mean(naftisol)\n",
    "naftisol_median = np.median(naftisol)\n",
    "naftisol_var = np.var(naftisol)\n",
    "naftisol_sdev = np.std(naftisol)\n",
    "naftisol_sem = st.sem(naftisol)\n",
    "\n",
    "naftisol_summary = [{\"Drug Name\": \"naftisol\", \"Mean\": naftisol_mean, \"Median\": naftisol_median, \n",
    "                   \"Variance\": naftisol_var, \"Standard Deviation\": naftisol_sdev,\n",
    "                   \"SEM\": naftisol_sem}]\n",
    "naftisol_summary_df = pd.DataFrame(naftisol_summary)\n",
    "print(naftisol_summary_df)"
   ]
  },
  {
   "cell_type": "code",
   "execution_count": 11,
   "metadata": {},
   "outputs": [
    {
     "name": "stdout",
     "output_type": "stream",
     "text": [
      "   Drug Name       Mean     Median   Variance  Standard Deviation       SEM\n",
      "0  zoniferol  53.236507  51.818479  48.266689            6.947423  0.516398\n"
     ]
    }
   ],
   "source": [
    "# zoniferol stats\n",
    "zoniferol_df = clean_df[clean_df['Drug Regimen'] == \"Zoniferol\"] \n",
    "zoniferol = zoniferol_df[\"Tumor Volume (mm3)\"]\n",
    "zoniferol_mean = np.mean(zoniferol)\n",
    "zoniferol_median = np.median(zoniferol)\n",
    "zoniferol_var = np.var(zoniferol)\n",
    "zoniferol_sdev = np.std(zoniferol)\n",
    "zoniferol_sem = st.sem(zoniferol)\n",
    "\n",
    "zoniferol_summary = [{\"Drug Name\": \"zoniferol\", \"Mean\": zoniferol_mean, \"Median\": zoniferol_median, \n",
    "                   \"Variance\": zoniferol_var, \"Standard Deviation\": zoniferol_sdev,\n",
    "                   \"SEM\": zoniferol_sem}]\n",
    "zoniferol_summary_df = pd.DataFrame(zoniferol_summary)\n",
    "print(zoniferol_summary_df)"
   ]
  },
  {
   "cell_type": "code",
   "execution_count": 12,
   "metadata": {},
   "outputs": [
    {
     "name": "stdout",
     "output_type": "stream",
     "text": [
      "  Drug Name       Mean     Median   Variance  Standard Deviation       SEM\n",
      "0   placebo  54.033581  52.288934  60.830138            7.799368  0.581331\n"
     ]
    }
   ],
   "source": [
    "# placebo stats\n",
    "placebo_df = clean_df[clean_df['Drug Regimen'] == \"Placebo\"] \n",
    "placebo = placebo_df[\"Tumor Volume (mm3)\"]\n",
    "placebo_mean = np.mean(placebo)\n",
    "placebo_median = np.median(placebo)\n",
    "placebo_var = np.var(placebo)\n",
    "placebo_sdev = np.std(placebo)\n",
    "placebo_sem = st.sem(placebo)\n",
    "\n",
    "placebo_summary = [{\"Drug Name\": \"placebo\", \"Mean\": placebo_mean, \"Median\": placebo_median, \n",
    "                   \"Variance\": placebo_var, \"Standard Deviation\": placebo_sdev,\n",
    "                   \"SEM\": placebo_sem}]\n",
    "placebo_summary_df = pd.DataFrame(placebo_summary)\n",
    "print(placebo_summary_df)"
   ]
  },
  {
   "cell_type": "code",
   "execution_count": 13,
   "metadata": {},
   "outputs": [
    {
     "name": "stdout",
     "output_type": "stream",
     "text": [
      "  Drug Name       Mean     Median   Variance  Standard Deviation       SEM\n",
      "0  stelasyn  54.233149  52.431737  59.122106             7.68909  0.573111\n"
     ]
    }
   ],
   "source": [
    "# stelasyn stats\n",
    "stelasyn_df = clean_df[clean_df['Drug Regimen'] == \"Stelasyn\"] \n",
    "stelasyn = stelasyn_df[\"Tumor Volume (mm3)\"]\n",
    "stelasyn_mean = np.mean(stelasyn)\n",
    "stelasyn_median = np.median(stelasyn)\n",
    "stelasyn_var = np.var(stelasyn)\n",
    "stelasyn_sdev = np.std(stelasyn)\n",
    "stelasyn_sem = st.sem(stelasyn)\n",
    "\n",
    "stelasyn_summary = [{\"Drug Name\": \"stelasyn\", \"Mean\": stelasyn_mean, \"Median\": stelasyn_median, \n",
    "                   \"Variance\": stelasyn_var, \"Standard Deviation\": stelasyn_sdev,\n",
    "                   \"SEM\": stelasyn_sem}]\n",
    "stelasyn_summary_df = pd.DataFrame(stelasyn_summary)\n",
    "print(stelasyn_summary_df)"
   ]
  },
  {
   "cell_type": "code",
   "execution_count": 14,
   "metadata": {},
   "outputs": [
    {
     "name": "stdout",
     "output_type": "stream",
     "text": [
      "   Drug Name       Mean     Median   Variance  Standard Deviation       SEM\n",
      "0  infubinol  52.884795  51.820584  42.886388             6.54877  0.492236\n"
     ]
    }
   ],
   "source": [
    "# infubinol stats\n",
    "infubinol_df = clean_df[clean_df['Drug Regimen'] == \"Infubinol\"] \n",
    "infubinol = infubinol_df[\"Tumor Volume (mm3)\"]\n",
    "infubinol_mean = np.mean(infubinol)\n",
    "infubinol_median = np.median(infubinol)\n",
    "infubinol_var = np.var(infubinol)\n",
    "infubinol_sdev = np.std(infubinol)\n",
    "infubinol_sem = st.sem(infubinol)\n",
    "\n",
    "infubinol_summary = [{\"Drug Name\": \"infubinol\", \"Mean\": infubinol_mean, \"Median\": infubinol_median, \n",
    "                   \"Variance\": infubinol_var, \"Standard Deviation\": infubinol_sdev,\n",
    "                   \"SEM\": infubinol_sem}]\n",
    "infubinol_summary_df = pd.DataFrame(infubinol_summary)\n",
    "print(infubinol_summary_df)"
   ]
  },
  {
   "cell_type": "code",
   "execution_count": 15,
   "metadata": {},
   "outputs": [
    {
     "name": "stdout",
     "output_type": "stream",
     "text": [
      "  Drug Name       Mean     Median   Variance  Standard Deviation       SEM\n",
      "0  ceftamin  52.591172  51.776157  39.069446            6.250556  0.469821\n"
     ]
    }
   ],
   "source": [
    "# ceftamin stats\n",
    "ceftamin_df = clean_df[clean_df['Drug Regimen'] == \"Ceftamin\"] \n",
    "ceftamin = ceftamin_df[\"Tumor Volume (mm3)\"]\n",
    "ceftamin_mean = np.mean(ceftamin)\n",
    "ceftamin_median = np.median(ceftamin)\n",
    "ceftamin_var = np.var(ceftamin)\n",
    "ceftamin_sdev = np.std(ceftamin)\n",
    "ceftamin_sem = st.sem(ceftamin)\n",
    "\n",
    "ceftamin_summary = [{\"Drug Name\": \"ceftamin\", \"Mean\": ceftamin_mean, \"Median\": ceftamin_median, \n",
    "                   \"Variance\": ceftamin_var, \"Standard Deviation\": ceftamin_sdev,\n",
    "                   \"SEM\": ceftamin_sem}]\n",
    "ceftamin_summary_df = pd.DataFrame(ceftamin_summary)\n",
    "print(ceftamin_summary_df)"
   ]
  },
  {
   "cell_type": "code",
   "execution_count": 16,
   "metadata": {},
   "outputs": [
    {
     "name": "stdout",
     "output_type": "stream",
     "text": [
      "  Drug Name       Mean     Median   Variance  Standard Deviation       SEM\n",
      "0  propriva  52.393463  50.909965  42.862273            6.546928  0.525862\n"
     ]
    }
   ],
   "source": [
    "# propriva stats\n",
    "propriva_df = clean_df[clean_df['Drug Regimen'] == \"Propriva\"] \n",
    "propriva = propriva_df[\"Tumor Volume (mm3)\"]\n",
    "propriva_mean = np.mean(propriva)\n",
    "propriva_median = np.median(propriva)\n",
    "propriva_var = np.var(propriva)\n",
    "propriva_sdev = np.std(propriva)\n",
    "propriva_sem = st.sem(propriva)\n",
    "\n",
    "propriva_summary = [{\"Drug Name\": \"propriva\", \"Mean\": propriva_mean, \"Median\": propriva_median, \n",
    "                   \"Variance\": propriva_var, \"Standard Deviation\": propriva_sdev,\n",
    "                   \"SEM\": propriva_sem}]\n",
    "propriva_summary_df = pd.DataFrame(propriva_summary)\n",
    "print(propriva_summary_df)"
   ]
  },
  {
   "cell_type": "code",
   "execution_count": 23,
   "metadata": {},
   "outputs": [
    {
     "data": {
      "text/html": [
       "<div>\n",
       "<style scoped>\n",
       "    .dataframe tbody tr th:only-of-type {\n",
       "        vertical-align: middle;\n",
       "    }\n",
       "\n",
       "    .dataframe tbody tr th {\n",
       "        vertical-align: top;\n",
       "    }\n",
       "\n",
       "    .dataframe thead th {\n",
       "        text-align: right;\n",
       "    }\n",
       "</style>\n",
       "<table border=\"1\" class=\"dataframe\">\n",
       "  <thead>\n",
       "    <tr style=\"text-align: right;\">\n",
       "      <th></th>\n",
       "      <th>Drug Name</th>\n",
       "      <th>Mean</th>\n",
       "      <th>Median</th>\n",
       "      <th>Variance</th>\n",
       "      <th>Standard Deviation</th>\n",
       "      <th>SEM</th>\n",
       "    </tr>\n",
       "  </thead>\n",
       "  <tbody>\n",
       "    <tr>\n",
       "      <th>0</th>\n",
       "      <td>capomulin</td>\n",
       "      <td>40.675741</td>\n",
       "      <td>41.557809</td>\n",
       "      <td>24.839296</td>\n",
       "      <td>4.983904</td>\n",
       "      <td>0.329346</td>\n",
       "    </tr>\n",
       "    <tr>\n",
       "      <th>0</th>\n",
       "      <td>ramicane</td>\n",
       "      <td>40.216745</td>\n",
       "      <td>40.673236</td>\n",
       "      <td>23.383692</td>\n",
       "      <td>4.835669</td>\n",
       "      <td>0.320955</td>\n",
       "    </tr>\n",
       "    <tr>\n",
       "      <th>0</th>\n",
       "      <td>ketapril</td>\n",
       "      <td>55.235638</td>\n",
       "      <td>53.698743</td>\n",
       "      <td>68.188930</td>\n",
       "      <td>8.257659</td>\n",
       "      <td>0.603860</td>\n",
       "    </tr>\n",
       "    <tr>\n",
       "      <th>0</th>\n",
       "      <td>naftisol</td>\n",
       "      <td>54.331565</td>\n",
       "      <td>52.509285</td>\n",
       "      <td>65.817708</td>\n",
       "      <td>8.112811</td>\n",
       "      <td>0.596466</td>\n",
       "    </tr>\n",
       "    <tr>\n",
       "      <th>0</th>\n",
       "      <td>zoniferol</td>\n",
       "      <td>53.236507</td>\n",
       "      <td>51.818479</td>\n",
       "      <td>48.266689</td>\n",
       "      <td>6.947423</td>\n",
       "      <td>0.516398</td>\n",
       "    </tr>\n",
       "    <tr>\n",
       "      <th>0</th>\n",
       "      <td>stelasyn</td>\n",
       "      <td>54.233149</td>\n",
       "      <td>52.431737</td>\n",
       "      <td>59.122106</td>\n",
       "      <td>7.689090</td>\n",
       "      <td>0.573111</td>\n",
       "    </tr>\n",
       "    <tr>\n",
       "      <th>0</th>\n",
       "      <td>placebo</td>\n",
       "      <td>54.033581</td>\n",
       "      <td>52.288934</td>\n",
       "      <td>60.830138</td>\n",
       "      <td>7.799368</td>\n",
       "      <td>0.581331</td>\n",
       "    </tr>\n",
       "    <tr>\n",
       "      <th>0</th>\n",
       "      <td>infubinol</td>\n",
       "      <td>52.884795</td>\n",
       "      <td>51.820584</td>\n",
       "      <td>42.886388</td>\n",
       "      <td>6.548770</td>\n",
       "      <td>0.492236</td>\n",
       "    </tr>\n",
       "    <tr>\n",
       "      <th>0</th>\n",
       "      <td>ceftamin</td>\n",
       "      <td>52.591172</td>\n",
       "      <td>51.776157</td>\n",
       "      <td>39.069446</td>\n",
       "      <td>6.250556</td>\n",
       "      <td>0.469821</td>\n",
       "    </tr>\n",
       "    <tr>\n",
       "      <th>0</th>\n",
       "      <td>propriva</td>\n",
       "      <td>52.393463</td>\n",
       "      <td>50.909965</td>\n",
       "      <td>42.862273</td>\n",
       "      <td>6.546928</td>\n",
       "      <td>0.525862</td>\n",
       "    </tr>\n",
       "  </tbody>\n",
       "</table>\n",
       "</div>"
      ],
      "text/plain": [
       "   Drug Name       Mean     Median   Variance  Standard Deviation       SEM\n",
       "0  capomulin  40.675741  41.557809  24.839296            4.983904  0.329346\n",
       "0   ramicane  40.216745  40.673236  23.383692            4.835669  0.320955\n",
       "0   ketapril  55.235638  53.698743  68.188930            8.257659  0.603860\n",
       "0   naftisol  54.331565  52.509285  65.817708            8.112811  0.596466\n",
       "0  zoniferol  53.236507  51.818479  48.266689            6.947423  0.516398\n",
       "0   stelasyn  54.233149  52.431737  59.122106            7.689090  0.573111\n",
       "0    placebo  54.033581  52.288934  60.830138            7.799368  0.581331\n",
       "0  infubinol  52.884795  51.820584  42.886388            6.548770  0.492236\n",
       "0   ceftamin  52.591172  51.776157  39.069446            6.250556  0.469821\n",
       "0   propriva  52.393463  50.909965  42.862273            6.546928  0.525862"
      ]
     },
     "execution_count": 23,
     "metadata": {},
     "output_type": "execute_result"
    }
   ],
   "source": [
    "# Generate a summary statistics table of mean, median, variance, standard deviation, and SEM of the tumor volume for each regimen\n",
    "frames = [capomulin_summary_df, ramicane_summary_df, ketapril_summary_df, naftisol_summary_df, \n",
    "          zoniferol_summary_df, stelasyn_summary_df, placebo_summary_df, infubinol_summary_df,\n",
    "          ceftamin_summary_df, propriva_summary_df]\n",
    "summary_table = pd.concat(frames)\n",
    "summary_table"
   ]
  },
  {
   "cell_type": "markdown",
   "metadata": {},
   "source": [
    "## Bar and Pie Charts"
   ]
  },
  {
   "cell_type": "code",
   "execution_count": 54,
   "metadata": {},
   "outputs": [
    {
     "data": {
      "text/plain": [
       "Text(0, 0.5, 'No. of Measurements')"
      ]
     },
     "execution_count": 54,
     "metadata": {},
     "output_type": "execute_result"
    },
    {
     "data": {
      "image/png": "[encoded data removed]",
      "text/plain": [
       "<Figure size 864x216 with 1 Axes>"
      ]
     },
     "metadata": {
      "needs_background": "light"
     },
     "output_type": "display_data"
    }
   ],
   "source": [
    "# Generate a bar plot showing the total number of measurements taken on each drug regimen using pandas.\n",
    "summary_table[\"No. of Measurements\"] = [230, 228, 188, 186, 182, 181, 181, 178, 178, 156]\n",
    "panda_plot = summary_table[[\"Drug Name\", \"No. of Measurements\"]].plot(title = \"Doses per Drug\", legend = False,\n",
    "                                                                      kind=\"bar\", figsize=(12,3))\n",
    "panda_plot.set_xticklabels(summary_table[\"Drug Name\"], rotation=0)\n",
    "panda_plot.set_xlabel(\"Drug Name\")\n",
    "panda_plot.set_ylabel(\"No. of Measurements\")\n"
   ]
  },
  {
   "cell_type": "code",
   "execution_count": 60,
   "metadata": {},
   "outputs": [
    {
     "data": {
      "text/plain": [
       "Text(0.5, 1.0, 'Doses per Drug')"
      ]
     },
     "execution_count": 60,
     "metadata": {},
     "output_type": "execute_result"
    },
    {
     "data": {
      "image/png": "[encoded data removed]",
      "text/plain": [
       "<Figure size 864x216 with 1 Axes>"
      ]
     },
     "metadata": {
      "needs_background": "light"
     },
     "output_type": "display_data"
    }
   ],
   "source": [
    "# Generate a bar plot showing the total number of measurements taken on each drug regimen using pyplot.\n",
    "x_axis = summary_table[\"Drug Name\"]\n",
    "y_axis = summary_table[\"No. of Measurements\"]\n",
    "plt.figure(figsize=(12,3))\n",
    "plt.bar(x_axis, y_axis, color='b', width=0.5)\n",
    "plt.xlabel(\"Drug Name\")\n",
    "plt.ylabel(\"No. of Measurements\")\n",
    "plt.title(\"Doses per Drug\")"
   ]
  },
  {
   "cell_type": "code",
   "execution_count": 85,
   "metadata": {
    "scrolled": true
   },
   "outputs": [
    {
     "data": {
      "image/png": "[encoded data removed]",
      "text/plain": [
       "<Figure size 432x288 with 1 Axes>"
      ]
     },
     "metadata": {},
     "output_type": "display_data"
    }
   ],
   "source": [
    "# Generate a pie plot showing the distribution of female versus male mice using pandas\n",
    "sex_data = clean_df[\"Sex\"].value_counts()\n",
    "pie_plot = sex_data.plot(kind = 'pie', title = 'Distribution of Gender')"
   ]
  },
  {
   "cell_type": "code",
   "execution_count": 83,
   "metadata": {},
   "outputs": [
    {
     "data": {
      "text/plain": [
       "Text(0.5, 1.0, 'Distribution of Gender')"
      ]
     },
     "execution_count": 83,
     "metadata": {},
     "output_type": "execute_result"
    },
    {
     "data": {
      "image/png": "[encoded data removed]",
      "text/plain": [
       "<Figure size 432x288 with 1 Axes>"
      ]
     },
     "metadata": {},
     "output_type": "display_data"
    }
   ],
   "source": [
    "# Generate a pie plot showing the distribution of female versus male mice using pyplot\n",
    "labels = [\"Male\", \"Female\"]\n",
    "count = [958, 930]\n",
    "colors = [\"tab:blue\", \"tab:orange\"]\n",
    "plt.pie(count, labels=labels, colors=colors)\n",
    "plt.title(\"Distribution of Gender\")"
   ]
  },
  {
   "cell_type": "markdown",
   "metadata": {},
   "source": [
    "## Quartiles, Outliers and Boxplots"
   ]
  },
  {
   "cell_type": "code",
   "execution_count": 86,
   "metadata": {},
   "outputs": [
    {
     "data": {
      "text/html": [
       "<div>\n",
       "<style scoped>\n",
       "    .dataframe tbody tr th:only-of-type {\n",
       "        vertical-align: middle;\n",
       "    }\n",
       "\n",
       "    .dataframe tbody tr th {\n",
       "        vertical-align: top;\n",
       "    }\n",
       "\n",
       "    .dataframe thead th {\n",
       "        text-align: right;\n",
       "    }\n",
       "</style>\n",
       "<table border=\"1\" class=\"dataframe\">\n",
       "  <thead>\n",
       "    <tr style=\"text-align: right;\">\n",
       "      <th></th>\n",
       "      <th>Mouse ID</th>\n",
       "      <th>Drug Regimen</th>\n",
       "      <th>Sex</th>\n",
       "      <th>Age_months</th>\n",
       "      <th>Weight (g)</th>\n",
       "      <th>Timepoint</th>\n",
       "      <th>Tumor Volume (mm3)</th>\n",
       "      <th>Metastatic Sites</th>\n",
       "    </tr>\n",
       "  </thead>\n",
       "  <tbody>\n",
       "    <tr>\n",
       "      <th>0</th>\n",
       "      <td>k403</td>\n",
       "      <td>Ramicane</td>\n",
       "      <td>Male</td>\n",
       "      <td>21</td>\n",
       "      <td>16</td>\n",
       "      <td>0</td>\n",
       "      <td>45.000000</td>\n",
       "      <td>0</td>\n",
       "    </tr>\n",
       "    <tr>\n",
       "      <th>1</th>\n",
       "      <td>k403</td>\n",
       "      <td>Ramicane</td>\n",
       "      <td>Male</td>\n",
       "      <td>21</td>\n",
       "      <td>16</td>\n",
       "      <td>5</td>\n",
       "      <td>38.825898</td>\n",
       "      <td>0</td>\n",
       "    </tr>\n",
       "    <tr>\n",
       "      <th>2</th>\n",
       "      <td>k403</td>\n",
       "      <td>Ramicane</td>\n",
       "      <td>Male</td>\n",
       "      <td>21</td>\n",
       "      <td>16</td>\n",
       "      <td>10</td>\n",
       "      <td>35.014271</td>\n",
       "      <td>1</td>\n",
       "    </tr>\n",
       "    <tr>\n",
       "      <th>3</th>\n",
       "      <td>k403</td>\n",
       "      <td>Ramicane</td>\n",
       "      <td>Male</td>\n",
       "      <td>21</td>\n",
       "      <td>16</td>\n",
       "      <td>15</td>\n",
       "      <td>34.223992</td>\n",
       "      <td>1</td>\n",
       "    </tr>\n",
       "    <tr>\n",
       "      <th>4</th>\n",
       "      <td>k403</td>\n",
       "      <td>Ramicane</td>\n",
       "      <td>Male</td>\n",
       "      <td>21</td>\n",
       "      <td>16</td>\n",
       "      <td>20</td>\n",
       "      <td>32.997729</td>\n",
       "      <td>1</td>\n",
       "    </tr>\n",
       "  </tbody>\n",
       "</table>\n",
       "</div>"
      ],
      "text/plain": [
       "  Mouse ID Drug Regimen   Sex  Age_months  Weight (g)  Timepoint  \\\n",
       "0     k403     Ramicane  Male          21          16          0   \n",
       "1     k403     Ramicane  Male          21          16          5   \n",
       "2     k403     Ramicane  Male          21          16         10   \n",
       "3     k403     Ramicane  Male          21          16         15   \n",
       "4     k403     Ramicane  Male          21          16         20   \n",
       "\n",
       "   Tumor Volume (mm3)  Metastatic Sites  \n",
       "0           45.000000                 0  \n",
       "1           38.825898                 0  \n",
       "2           35.014271                 1  \n",
       "3           34.223992                 1  \n",
       "4           32.997729                 1  "
      ]
     },
     "execution_count": 86,
     "metadata": {},
     "output_type": "execute_result"
    }
   ],
   "source": [
    "# Calculate the final tumor volume of each mouse across four of the treatment regimens:  \n",
    "# Capomulin, Ramicane, Infubinol, and Ceftamin\n",
    "clean_df.head()\n",
    "# Start by getting the last (greatest) timepoint for each mouse\n",
    "\n",
    "\n",
    "# Merge this group df with the original dataframe to get the tumor volume at the last timepoint\n"
   ]
  },
  {
   "cell_type": "code",
   "execution_count": null,
   "metadata": {},
   "outputs": [],
   "source": [
    "# Put treatments into a list for for loop (and later for plot labels)\n",
    "\n",
    "\n",
    "# Create empty list to fill with tumor vol data (for plotting)\n",
    "\n",
    "\n",
    "# Calculate the IQR and quantitatively determine if there are any potential outliers. \n",
    "\n",
    "    \n",
    "    # Locate the rows which contain mice on each drug and get the tumor volumes\n",
    "    \n",
    "    \n",
    "    # add subset \n",
    "    \n",
    "    \n",
    "    # Determine outliers using upper and lower bounds\n",
    "    "
   ]
  },
  {
   "cell_type": "code",
   "execution_count": null,
   "metadata": {},
   "outputs": [],
   "source": [
    "# Generate a box plot of the final tumor volume of each mouse across four regimens of interest\n"
   ]
  },
  {
   "cell_type": "markdown",
   "metadata": {},
   "source": [
    "## Line and Scatter Plots"
   ]
  },
  {
   "cell_type": "code",
   "execution_count": null,
   "metadata": {},
   "outputs": [],
   "source": [
    "# Generate a line plot of tumor volume vs. time point for a mouse treated with Capomulin\n"
   ]
  },
  {
   "cell_type": "code",
   "execution_count": null,
   "metadata": {},
   "outputs": [],
   "source": [
    "# Generate a scatter plot of average tumor volume vs. mouse weight for the Capomulin regimen\n"
   ]
  },
  {
   "cell_type": "markdown",
   "metadata": {},
   "source": [
    "## Correlation and Regression"
   ]
  },
  {
   "cell_type": "code",
   "execution_count": null,
   "metadata": {},
   "outputs": [],
   "source": [
    "# Calculate the correlation coefficient and linear regression model \n",
    "# for mouse weight and average tumor volume for the Capomulin regimen\n"
   ]
  },
  {
   "cell_type": "code",
   "execution_count": null,
   "metadata": {},
   "outputs": [],
   "source": []
  }
 ],
 "metadata": {
  "anaconda-cloud": {},
  "kernelspec": {
   "display_name": "pythondata",
   "language": "python",
   "name": "pythondata"
  },
  "language_info": {
   "codemirror_mode": {
    "name": "ipython",
    "version": 3
   },
   "file_extension": ".py",
   "mimetype": "text/x-python",
   "name": "python",
   "nbconvert_exporter": "python",
   "pygments_lexer": "ipython3",
   "version": "3.6.10"
  }
 },
 "nbformat": 4,
 "nbformat_minor": 4
}
